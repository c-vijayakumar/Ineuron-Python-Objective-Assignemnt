{
 "cells": [
  {
   "cell_type": "markdown",
   "metadata": {
    "colab_type": "text",
    "id": "ijHrd8esfy-_"
   },
   "source": [
    "# Q1. How can we create an iterator object from a list?\n",
    "\n",
    "a) By passing the given list to the iter() function\n",
    "\n",
    "b) By using a for a loop.\n",
    "\n",
    "c) By using a while loop.\n",
    "\n",
    "d) You cannot create an iterable object\n",
    "\n",
    "### Ans: a\n"
   ]
  },
  {
   "cell_type": "markdown",
   "metadata": {
    "colab_type": "text",
    "id": "COmgOFYrf7EG"
   },
   "source": [
    "# Q2. If the function contains at least of one “yield” statement, then it\n",
    "becomes ______\n",
    "\n",
    "a) An iterable\n",
    "\n",
    "b) a generator function\n",
    "\n",
    "c) an anonymous function\n",
    "\n",
    "d) None of the above\n",
    "\n",
    "## Ans : b"
   ]
  },
  {
   "cell_type": "markdown",
   "metadata": {
    "colab_type": "text",
    "id": "QXgobpmegBPt"
   },
   "source": [
    "# Q3. What is the output of the code?\n",
    "\n",
    "mylist =[1,3,6,10]\n",
    "\n",
    "a = (x**2 for x in mylist)\n",
    "\n",
    "print(next(a), next(a))\n",
    "\n",
    "a) 1 3\n",
    "\n",
    "b) 1 9\n",
    "\n",
    "c) 1 9 36 100\n",
    "\n",
    "d) 1\n",
    "\n",
    "## Ans: b"
   ]
  },
  {
   "cell_type": "markdown",
   "metadata": {
    "colab_type": "text",
    "id": "RhSkxQEPgzNr"
   },
   "source": [
    "# Q4. What are the criteria that must be met to create closure in Python?\n",
    "\n",
    "a) The program Must have the function inside the function.\n",
    "\n",
    "b) The nested function must refer to the value defined in the enclosing function.\n",
    "\n",
    "c) The enclosing function must return the nested\n",
    "\n",
    "d) All of the above.\n",
    "\n"
   ]
  },
  {
   "cell_type": "markdown",
   "metadata": {
    "colab_type": "text",
    "id": "QQnOliy5hHrm"
   },
   "source": [
    "## Ans : d"
   ]
  },
  {
   "cell_type": "markdown",
   "metadata": {
    "colab_type": "text",
    "id": "bT2o6lZjiShC"
   },
   "source": [
    "# Q5. What is the output of the code?\n"
   ]
  },
  {
   "cell_type": "code",
   "execution_count": 0,
   "metadata": {
    "colab": {},
    "colab_type": "code",
    "collapsed": true,
    "id": "paCvVRNZi-QR"
   },
   "outputs": [],
   "source": [
    "def Foo(n):\n",
    "  def multiplier(x):\n",
    "    return x * n\n",
    "  return multiplier\n",
    "\n",
    "a = Foo(5)\n",
    "b = Foo(5)\n",
    "print(a(b(2)))"
   ]
  },
  {
   "cell_type": "markdown",
   "metadata": {
    "colab_type": "text",
    "id": "YdPO3ezSjZEE"
   },
   "source": [
    "\n",
    "a) 25.\n",
    "\n",
    "b) 100\n",
    "\n",
    "c) 10\n",
    "\n",
    "d) 50\n",
    "\n",
    "## Ans: d"
   ]
  },
  {
   "cell_type": "markdown",
   "metadata": {
    "colab_type": "text",
    "id": "0h5vH8pcj2jE"
   },
   "source": [
    "# Q6. What is the output of the code?\n"
   ]
  },
  {
   "cell_type": "code",
   "execution_count": 0,
   "metadata": {
    "colab": {},
    "colab_type": "code",
    "collapsed": true,
    "id": "tsb8jEMokjtx"
   },
   "outputs": [],
   "source": [
    "def make_pretty(func):\n",
    "  def inner():\n",
    "    print(\"I got decorated\")\n",
    "    func()\n",
    "  return inner\n",
    "\n",
    "def ordinary():\n",
    "  print(\"I am ordinary\")\n",
    "pretty = make_pretty(ordinary)\n",
    "pretty()"
   ]
  },
  {
   "cell_type": "markdown",
   "metadata": {
    "colab_type": "text",
    "id": "XW0Irv3cm-Tl"
   },
   "source": [
    "a) I got decorated\n",
    "\n",
    "b) I am pretty\n",
    "\n",
    "c) I got decorated\n",
    " I am ordinary\n",
    "\n",
    " d) I am ordinary\n",
    " I got decorated\n",
    "\n",
    "## Ans: c"
   ]
  },
  {
   "cell_type": "markdown",
   "metadata": {
    "colab_type": "text",
    "id": "awDicErqnnCM"
   },
   "source": [
    "# Q7: What is the more pythonic way to use getters and setters?\n",
    "\n",
    "a) Decorators\n",
    "\n",
    "b) Generators.\n",
    "\n",
    "c) Iterators\n",
    "\n",
    "d) @property\n",
    "\n",
    "## Ans: d"
   ]
  },
  {
   "cell_type": "markdown",
   "metadata": {
    "colab_type": "text",
    "id": "UoE-jN9MoLUz"
   },
   "source": [
    "# Q8. In Python, there is a built-in function property() that returns a property object. The property object has which of the methods?\n",
    "\n",
    "a) getter() and setter()\n",
    "\n",
    "b) getter(), setter() and delete()\n",
    "\n",
    "c) getter() and delete()\n",
    "\n",
    "d) setter() and delete()\n",
    "\n",
    "## Ans: b"
   ]
  },
  {
   "cell_type": "markdown",
   "metadata": {
    "colab_type": "text",
    "id": "3dSUeE2lo15u"
   },
   "source": [
    "# Q9. Which of the following statement is true?\n",
    "\n",
    "a) You can not chain multiple decorators in Python.\n",
    "\n",
    "b) Decorators don’t work with functions that take parameters.\n",
    "\n",
    "c) The @ symbol doesn’t have any use while using decorators.\n",
    "\n",
    "d) None of the above\n",
    "\n",
    "## Ans: c"
   ]
  },
  {
   "cell_type": "markdown",
   "metadata": {
    "colab_type": "text",
    "id": "JOK1o0Qkstzv"
   },
   "source": [
    "# Q10. For the following codes, which of the following statements is true?\n",
    "\n"
   ]
  },
  {
   "cell_type": "code",
   "execution_count": 0,
   "metadata": {
    "colab": {},
    "colab_type": "code",
    "collapsed": true,
    "id": "Iu9n_Jeys6ES"
   },
   "outputs": [],
   "source": [
    "def printHello():\n",
    "  print(\"Hello\")\n",
    "a = printHello()\n",
    "type(a)"
   ]
  },
  {
   "cell_type": "markdown",
   "metadata": {
    "colab_type": "text",
    "id": "N1qjyctvuAMa"
   },
   "source": [
    "a) Print Hello() is a function, and a is a variable. None of them are objects.\n",
    "\n",
    "b) Both printHello() and the reference to the same object.\n",
    "\n",
    "c) Print Hello() and the reference to different objects.\n",
    "\n",
    "d) Syntax error! You cannot assign function\n",
    "\n",
    "## Ans: a"
   ]
  },
  {
   "cell_type": "markdown",
   "metadata": {
    "colab_type": "text",
    "id": "16zIzD4iu4rU"
   },
   "source": [
    "# Q11. What is the output of the program?"
   ]
  },
  {
   "cell_type": "code",
   "execution_count": 0,
   "metadata": {
    "colab": {},
    "colab_type": "code",
    "collapsed": true,
    "id": "MJBmy75Xu6j2"
   },
   "outputs": [],
   "source": [
    "def outerFunction():\n",
    "  global a\n",
    "  a = 20\n",
    "  def innerFunction():\n",
    "    global a\n",
    "    a = 30\n",
    "    print('a==',a)\n",
    "a = 10\n",
    "outerFunction()\n",
    "print('a=', a)"
   ]
  },
  {
   "cell_type": "markdown",
   "metadata": {
    "colab_type": "text",
    "id": "SsaDMuSVveco"
   },
   "source": [
    "a) a = 10 a = 30\n",
    "\n",
    "b) a = 10\n",
    "\n",
    "c) a = 20\n",
    "\n",
    "d) a = 30\n",
    "\n",
    "## Ans: c"
   ]
  },
  {
   "cell_type": "markdown",
   "metadata": {
    "colab_type": "text",
    "id": "BgX9HKCEvnvD"
   },
   "source": [
    "# Q12. Which of the following statements is true?\n",
    "\n",
    "a) A class is a blueprint for the object.\n",
    "\n",
    "b) You can only make the single object from the given class\n",
    "\n",
    "c) Both statements are true.\n",
    "\n",
    "d) Neither statement is true.\n",
    "\n",
    "## Ans: a"
   ]
  },
  {
   "cell_type": "markdown",
   "metadata": {
    "colab_type": "text",
    "id": "Apoi339dwAtU"
   },
   "source": [
    "# Q13. What is the output of the code?"
   ]
  },
  {
   "cell_type": "code",
   "execution_count": 0,
   "metadata": {
    "colab": {},
    "colab_type": "code",
    "collapsed": true,
    "id": "NG4ukCHqwDGU"
   },
   "outputs": [],
   "source": [
    "class Foo:\n",
    "  def printLine(self,line='Python'):\n",
    "    print(line)\n",
    "\n",
    "o1 = Foo()\n",
    "o1.printLine('Java')\n"
   ]
  },
  {
   "cell_type": "markdown",
   "metadata": {
    "colab_type": "text",
    "id": "xzFg0BQewW-0"
   },
   "source": [
    "a) Python\n",
    "\n",
    "b) Line\n",
    "\n",
    "c) Java\n",
    "\n",
    "d) Java\n",
    "Python\n",
    "\n",
    "## Ans: c"
   ]
  },
  {
   "cell_type": "markdown",
   "metadata": {
    "colab_type": "text",
    "id": "qSQBmRzEwk7s"
   },
   "source": [
    "# Q14. What is the function of the __init__() function in Python?\n",
    "\n",
    "a) Initialises the class for use.\n",
    "\n",
    "b) This function is called, when the new object is instantiated\n",
    "\n",
    "c) Initialises all the data attributes to zero when called\n",
    "\n",
    "d) None of the above.\n",
    "\n",
    "## Ans:  b"
   ]
  },
  {
   "cell_type": "markdown",
   "metadata": {
    "colab_type": "text",
    "id": "PaAncUyQxe7D"
   },
   "source": [
    "# Q15. What is the output of the code?"
   ]
  },
  {
   "cell_type": "code",
   "execution_count": 0,
   "metadata": {
    "colab": {},
    "colab_type": "code",
    "collapsed": true,
    "id": "AaCARJR0xhZa"
   },
   "outputs": [],
   "source": [
    "class Point:\n",
    "  def __init__(self, x=0, y=0):\n",
    "    self.x = x+1\n",
    "    self.y = y+1\n",
    "p1 = Point()\n",
    "print(p1.x, p1.y)"
   ]
  },
  {
   "cell_type": "markdown",
   "metadata": {
    "colab_type": "text",
    "id": "G6ZSsNKex0U-"
   },
   "source": [
    "a) 0 0\n",
    "\n",
    "b) 1 1\n",
    "\n",
    "c) None None\n",
    "\n",
    "d) x y\n",
    "\n",
    "## Ans: b"
   ]
  },
  {
   "cell_type": "markdown",
   "metadata": {
    "colab_type": "text",
    "id": "4L_0xjxmx8sc"
   },
   "source": [
    "# Q16. Which of the following code used the inheritance feature?\n",
    "\n",
    "a)\n",
    "Class Foo:\n",
    "  Pass\n",
    "\n",
    "b)\n",
    "class Foo(object):\n",
    "  pass\n",
    "\n",
    "class Hoo(object):\n",
    "  pass\n",
    "\n",
    "c)\n",
    "class Foo:\n",
    "  pass\n",
    "\n",
    "class Hoo(Foo):\n",
    "  pass\n",
    "\n",
    "d) None of the above code.\n",
    "## Ans: c"
   ]
  },
  {
   "cell_type": "markdown",
   "metadata": {
    "colab_type": "text",
    "id": "VQHHGv07y7ng"
   },
   "source": [
    "# Q17 If you a class is derived from two different classes, it’s called\n",
    "______\n",
    "\n",
    "a) Multilevel inheritance\n",
    "\n",
    "b) Multiple Inheritance\n",
    "\n",
    "c) Hierarchical Inheritance\n",
    "\n",
    "d) Python Inheritance\n",
    "\n",
    "## Ans: b"
   ]
  },
  {
   "cell_type": "markdown",
   "metadata": {
    "colab_type": "text",
    "id": "ItdWePULzGO7"
   },
   "source": [
    "# Q18. Which of the following statements is true?\n",
    "\n",
    "a) In Python, the same operator may behave differently depends upon the operands.\n",
    "\n",
    "b) You can change the way operators which behave in Python.\n",
    "\n",
    "c) Special method __add()__ is called when + operator\n",
    "\n",
    "d) All of the above\n",
    "\n",
    "## Ans: d"
   ]
  },
  {
   "cell_type": "markdown",
   "metadata": {
    "colab_type": "text",
    "id": "T0C1V8EazjOp"
   },
   "source": [
    "# Q19. What is the output of the code?"
   ]
  },
  {
   "cell_type": "code",
   "execution_count": 0,
   "metadata": {
    "colab": {},
    "colab_type": "code",
    "collapsed": true,
    "id": "2vD_Gmiozks0"
   },
   "outputs": [],
   "source": [
    "class Point:\n",
    "\n",
    "  def __init__(self, x=0, y=0):\n",
    "    self.x = x\n",
    "    self.y = y\n",
    "  \n",
    "  def __sub__(self, other):\n",
    "    x = self.x + other.x\n",
    "    y = self.y + other.y\n",
    "    return Point(x, y)\n",
    "\n",
    "p1 = Point(3,4)\n",
    "p2 = Point(1,2)\n",
    "result = p1-p2\n",
    "print(result.x, result.y)"
   ]
  },
  {
   "cell_type": "markdown",
   "metadata": {
    "colab_type": "text",
    "id": "3aiDm5du0IxL"
   },
   "source": [
    "a) 2 2\n",
    "\n",
    "b) 4 6\n",
    "\n",
    "c) 0 0\n",
    "\n",
    "d) 1 1\n",
    "\n",
    "## Ans: b"
   ]
  },
  {
   "cell_type": "markdown",
   "metadata": {
    "colab_type": "text",
    "id": "DXuTib3s0QNR"
   },
   "source": [
    "# Q20. Opening a file in ‘a’ mode\n",
    "\n",
    "a) opens a file for reading\n",
    "\n",
    "b) opens a file for writing\n",
    "\n",
    "c) opens the file for appending, at the end of file\n",
    "\n",
    "d) opens a file for exclusive creation\n",
    "\n",
    "## Ans: c"
   ]
  },
  {
   "cell_type": "markdown",
   "metadata": {
    "colab_type": "text",
    "id": "IhABbvrX0q_F"
   },
   "source": [
    "# Q21. What does the following code do?\n",
    "f = open(\"test.txt\")\n",
    "\n",
    "a) Opens test.txt file for both reading and writing\n",
    "\n",
    "b) Opens test.txt file for reading only\n",
    "\n",
    "c) Opens test.txt file for writing only\n",
    "\n",
    "d) Opens test.txt file in god mode\n",
    "\n",
    "## Ans: b\n"
   ]
  },
  {
   "cell_type": "markdown",
   "metadata": {
    "colab_type": "text",
    "id": "UFI_7O942JQW"
   },
   "source": [
    "# Q22. Which of the codes closes files automatically if an exception occurs?\n",
    "\n",
    "a)\n",
    " \n",
    " with open(\"test.txt\", encoding = 'utf-8') as f:\n",
    "\n",
    "b)\n",
    "try:\n",
    "  f = open(\"test.txt\",encoding = 'utf-8')\n",
    "finally:\n",
    "f.close()\n",
    "\n",
    "c) None of the above\n",
    "\n",
    "d) Both of the above\n",
    "\n",
    "## Ans: c"
   ]
  },
  {
   "cell_type": "markdown",
   "metadata": {
    "colab_type": "text",
    "id": "jAtn0oo13qCz"
   },
   "source": [
    "# Q23. For the following code\n",
    "\n",
    "f = open('test.txt', 'r', encoding = 'utf-8')\n",
    "f.read()\n",
    "\n",
    "Which of the following statement is true\n",
    "\n",
    "a) This program reads the content of the test.txt file.\n",
    "\n",
    "b) If test.txt contains a newline, read() will return the newline as ‘\\n’.\n",
    "\n",
    "c) You can pass an integer to the read() method\n",
    "\n",
    "d) All of the above.\n",
    "\n",
    "## Ans: d\n"
   ]
  },
  {
   "cell_type": "markdown",
   "metadata": {
    "colab_type": "text",
    "id": "bamp_blV4S7f"
   },
   "source": [
    "# Q24. What does the following code do?\n",
    "os.listdir()\n",
    "\n",
    "a) Prints the current working directory.\n",
    "\n",
    "b) Prints the current working directory.\n",
    "\n",
    "c) Prints all the directories and files inside the given directory\n",
    "\n",
    "d) Make a new directory\n",
    "\n",
    "## Ans: c"
   ]
  },
  {
   "cell_type": "markdown",
   "metadata": {
    "colab_type": "text",
    "id": "sRwgqNrF4vp1"
   },
   "source": [
    "# Q25. Which of the following is correct?\n",
    "\n",
    "a) An exception is an error that occurs in the runtime.\n",
    "\n",
    "b) A syntax error is also an exception.\n",
    "\n",
    "c) An exception is used to exclude a block of code in python.\n",
    "\n",
    "d) All of the above.\n",
    "\n",
    "## Ans: a"
   ]
  },
  {
   "cell_type": "markdown",
   "metadata": {
    "colab_type": "text",
    "id": "rtUIgyso5BQ7"
   },
   "source": [
    "# Q26. What will happen if we try to open the file that doesn’t exist?\n",
    "\n",
    "a) A new file is created.\n",
    "\n",
    "b) Nothing will happen.\n",
    "\n",
    "c) An exception is raised.\n",
    "\n",
    "d) None of the above\n",
    "\n",
    "## Ans: c"
   ]
  },
  {
   "cell_type": "markdown",
   "metadata": {
    "colab_type": "text",
    "id": "-R8GY6P05Wgn"
   },
   "source": [
    "# Q27. What is the output of the code?\n"
   ]
  },
  {
   "cell_type": "code",
   "execution_count": 0,
   "metadata": {
    "colab": {},
    "colab_type": "code",
    "collapsed": true,
    "id": "RdHfx0935YXp"
   },
   "outputs": [],
   "source": [
    "number = 5.0\n",
    "try:\n",
    "  r = 10/number\n",
    "  print(r)\n",
    "except:\n",
    "  print(\"Oops, Error occurred\")"
   ]
  },
  {
   "cell_type": "markdown",
   "metadata": {
    "colab_type": "text",
    "id": "G-HOX_v45lP7"
   },
   "source": [
    "a) Oops! Error occurred\n",
    "\n",
    "b) 2.0\n",
    "\n",
    "c) 2.0 Oops! Error occurred.\n",
    "\n",
    "d) None object\n",
    "\n",
    "## Ans: b"
   ]
  },
  {
   "cell_type": "markdown",
   "metadata": {
    "colab_type": "text",
    "id": "whiAAUqu50qG"
   },
   "source": [
    "# Q28. What does the following code do?\n"
   ]
  },
  {
   "cell_type": "code",
   "execution_count": 0,
   "metadata": {
    "colab": {},
    "colab_type": "code",
    "collapsed": true,
    "id": "HMLnSRrU529z"
   },
   "outputs": [],
   "source": [
    "try:\n",
    "  r = 10/0\n",
    "  pass\n",
    "except(TypeError,ZeroDivisionError):\n",
    "  print(\"Two\")\n"
   ]
  },
  {
   "cell_type": "markdown",
   "metadata": {
    "colab_type": "text",
    "id": "LmZtyQOc6RnO"
   },
   "source": [
    "a) Prints Two if an exception occurs (doesn’t matter which exception).\n",
    "\n",
    "b) Prints Two if exception doesn’t occur.\n",
    "\n",
    "c) Prints Two if the TypeError or ZeroDivisionError exception occurs.\n",
    "\n",
    "d) Prints Two only if both TypeError and ZeroDivisionError exception occur.\n",
    "\n",
    "## Ans: c"
   ]
  },
  {
   "cell_type": "markdown",
   "metadata": {
    "colab_type": "text",
    "id": "Uj1J8eEk6fb5"
   },
   "source": [
    "# Q29. Which of the following statement is true?\n",
    "\n",
    "a) You cannot create custom exceptions in Python.\n",
    "\n",
    "b) You can create the user-defined exception by deriving a class from Exception class.\n",
    "\n",
    "c) You can create a user-defined exception by deriving a class from Error class.\n",
    "\n",
    "d) None of the above\n",
    "\n",
    "## Ans: b"
   ]
  },
  {
   "cell_type": "markdown",
   "metadata": {
    "colab_type": "text",
    "id": "ojL_R4B37ZNj"
   },
   "source": [
    "# Q30. Which of the following statement is true?\n",
    "\n",
    "a) Functions are used to create objects in Python.\n",
    "\n",
    "b) Functions make your program run faster.\n",
    "\n",
    "c) The function is a piece of code that can perform a specific task.\n",
    "\n",
    "d) All of the above\n",
    "\n",
    "## Ans: c"
   ]
  },
  {
   "cell_type": "markdown",
   "metadata": {
    "colab_type": "text",
    "id": "jJinr5qA7vf6"
   },
   "source": [
    "# Q31. What is the output of the code?\n",
    "\n"
   ]
  },
  {
   "cell_type": "code",
   "execution_count": 0,
   "metadata": {
    "colab": {
     "base_uri": "https://localhost:8080/",
     "height": 33
    },
    "colab_type": "code",
    "collapsed": false,
    "executionInfo": {
     "elapsed": 3032,
     "status": "ok",
     "timestamp": 1573987027571,
     "user": {
      "displayName": "PaviVasee Vijayakumar",
      "photoUrl": "",
      "userId": "09210351112903337503"
     },
     "user_tz": -480
    },
    "id": "2Nw3Tif67yMO",
    "outputId": "78f4a919-f77c-4397-8e90-f7305352c776"
   },
   "outputs": [
    {
     "name": "stdout",
     "output_type": "stream",
     "text": [
      "Python is awesome.\n"
     ]
    }
   ],
   "source": [
    "def printLine(text):\n",
    "  print(text, 'is awesome.')\n",
    "\n",
    "printLine('Python')"
   ]
  },
  {
   "cell_type": "markdown",
   "metadata": {
    "colab_type": "text",
    "id": "EMSWpLcN-NP2"
   },
   "source": [
    "a) Python\n",
    "\n",
    "b) Python is awesome.\n",
    "\n",
    "c) Text is awesome.\n",
    "\n",
    "d) Is awesome\n",
    "\n",
    "## Ans: b"
   ]
  },
  {
   "cell_type": "markdown",
   "metadata": {
    "colab_type": "text",
    "id": "79GkMMA1-UAf"
   },
   "source": [
    "# Q32. If the return statement is not used inside the function, the function will return:\n",
    "\n",
    "a) 0\n",
    "\n",
    "b) None object\n",
    "\n",
    "c) an arbitrary integer\n",
    "\n",
    "d) Error! Functions in Python must have a return statement.\n",
    "\n",
    "## Ans: b"
   ]
  },
  {
   "cell_type": "markdown",
   "metadata": {
    "colab_type": "text",
    "id": "zP1lOmAu-_Ha"
   },
   "source": [
    "# Q33. What is the output of the code?\n"
   ]
  },
  {
   "cell_type": "code",
   "execution_count": 0,
   "metadata": {
    "colab": {
     "base_uri": "https://localhost:8080/",
     "height": 33
    },
    "colab_type": "code",
    "collapsed": false,
    "executionInfo": {
     "elapsed": 983,
     "status": "ok",
     "timestamp": 1573987893885,
     "user": {
      "displayName": "PaviVasee Vijayakumar",
      "photoUrl": "",
      "userId": "09210351112903337503"
     },
     "user_tz": -480
    },
    "id": "3EczeWFG_BYI",
    "outputId": "a894108c-a832-4a1c-e7f4-7dd315344dd2"
   },
   "outputs": [
    {
     "name": "stdout",
     "output_type": "stream",
     "text": [
      "Hello ('Frodo', 'Sauron')\n"
     ]
    }
   ],
   "source": [
    "def greetPerson(*name):\n",
    "  print('Hello', name)\n",
    "\n",
    "greetPerson('Frodo','Sauron')"
   ]
  },
  {
   "cell_type": "markdown",
   "metadata": {
    "colab_type": "text",
    "id": "a1k8H7IK_U9u"
   },
   "source": [
    "a) Hello Frodo\n",
    "Hello Sauron\n",
    "\n",
    "b) Hello ('Frodo', 'Sauron')\n",
    "\n",
    "c) Hello Frodo\n",
    "\n",
    "d) Syntax Error! Great person() can take only one argument.\n",
    "\n",
    "## Ans: b"
   ]
  },
  {
   "cell_type": "markdown",
   "metadata": {
    "colab_type": "text",
    "id": "IScAVamD_d2p"
   },
   "source": [
    "# Q34. What is a recursive function?\n",
    "\n",
    "a) A function that calls all the functions in the program.\n",
    "\n",
    "b) A function that calls itself.\n",
    "\n",
    "c) A function that that calls all the functions in the program except itself.\n",
    "\n",
    "d) There is no such thing as a recursive function in Python\n",
    "\n",
    "## Ans: b"
   ]
  },
  {
   "cell_type": "markdown",
   "metadata": {
    "colab_type": "text",
    "id": "geCPHIKb_zT9"
   },
   "source": [
    "# Q35. What is the output of the program?"
   ]
  },
  {
   "cell_type": "code",
   "execution_count": 0,
   "metadata": {
    "colab": {},
    "colab_type": "code",
    "collapsed": true,
    "id": "kIW9wff3_2jd"
   },
   "outputs": [],
   "source": [
    "result = lambda x: x*x\n",
    "print(result(5))"
   ]
  },
  {
   "cell_type": "markdown",
   "metadata": {
    "colab_type": "text",
    "id": "tXnn9Lux_-JV"
   },
   "source": [
    "a) lambda x: x*x\n",
    "\n",
    "b) 10\n",
    "\n",
    "c) 25\n",
    "\n",
    "d) 5*5\n",
    "\n",
    "## Ans: c"
   ]
  },
  {
   "cell_type": "markdown",
   "metadata": {
    "colab_type": "text",
    "id": "PRkI5xolAHZQ"
   },
   "source": [
    "# Q36. What is the output of the program?\n"
   ]
  },
  {
   "cell_type": "code",
   "execution_count": 0,
   "metadata": {
    "colab": {
     "base_uri": "https://localhost:8080/",
     "height": 33
    },
    "colab_type": "code",
    "collapsed": false,
    "executionInfo": {
     "elapsed": 1097,
     "status": "ok",
     "timestamp": 1573988166638,
     "user": {
      "displayName": "PaviVasee Vijayakumar",
      "photoUrl": "",
      "userId": "09210351112903337503"
     },
     "user_tz": -480
    },
    "id": "Yrn4uMmMAI3U",
    "outputId": "e0441dfb-1e7a-49ed-a336-82f61a778c2b"
   },
   "outputs": [
    {
     "name": "stdout",
     "output_type": "stream",
     "text": [
      "10\n"
     ]
    }
   ],
   "source": [
    "def Foo(x):\n",
    "  if(x==1):\n",
    "    return 1\n",
    "  else:\n",
    "    return x + Foo(x-1)\n",
    "\n",
    "print(Foo(4))"
   ]
  },
  {
   "cell_type": "markdown",
   "metadata": {
    "colab_type": "text",
    "id": "8ioMTut8AanE"
   },
   "source": [
    "a) 10\n",
    "\n",
    "b) 24\n",
    "\n",
    "c) 7\n",
    "\n",
    "d) 1\n",
    "\n",
    "## Ans: a"
   ]
  },
  {
   "cell_type": "markdown",
   "metadata": {
    "colab_type": "text",
    "id": "JcUAEBX9AiK_"
   },
   "source": [
    "# Q37. Suppose you need to print pi constant defined in the math module. Which of the following code can do this task?\n",
    "\n",
    "a) print(math.pi)\n",
    "\n",
    "b) print(pi)\n",
    "\n",
    "c)\n",
    "\n",
    "from math import pi\n",
    "\n",
    "print(pi)\n",
    "\n",
    "d)\n",
    "\n",
    "  from math import pi\n",
    "  \n",
    "  print(math.pi)\n",
    "\n",
    "## Ans: c"
   ]
  },
  {
   "cell_type": "markdown",
   "metadata": {
    "colab_type": "text",
    "id": "jMPcCm0rBYhm"
   },
   "source": [
    "# Q38. Which operator is used in Python to import modules from the packages?\n",
    "Choose one\n",
    "\n",
    "a). operator\n",
    "\n",
    "b) * operator\n",
    "\n",
    "c) -> symbol\n",
    "\n",
    "d) , operator\n",
    "\n",
    "## Ans: a"
   ]
  },
  {
   "cell_type": "markdown",
   "metadata": {
    "colab_type": "text",
    "id": "_DR1q0RnBsZ1"
   },
   "source": [
    "# Q39. What is the output of the code?\n"
   ]
  },
  {
   "cell_type": "code",
   "execution_count": 0,
   "metadata": {
    "colab": {},
    "colab_type": "code",
    "collapsed": true,
    "id": "p0EkCz4PBuL8"
   },
   "outputs": [],
   "source": [
    "numbers = [1,3,6]\n",
    "newNumbers=tuple(map(lambda x: x, numbers))\n",
    "print(newNumbers)"
   ]
  },
  {
   "cell_type": "markdown",
   "metadata": {
    "colab_type": "text",
    "id": "lWhNXPPeCLjh"
   },
   "source": [
    "a) [1, 3, 6]\n",
    "\n",
    "b) (1, 3, 6)\n",
    "\n",
    "c) [2, 6, 12]\n",
    "\n",
    "d) (2, 6, 12)\n",
    "\n",
    "## Ans: b"
   ]
  },
  {
   "cell_type": "markdown",
   "metadata": {
    "colab_type": "text",
    "id": "4ASlJdWbCUFc"
   },
   "source": [
    "# Q40. What is the output of the code?\n"
   ]
  },
  {
   "cell_type": "code",
   "execution_count": 0,
   "metadata": {
    "colab": {},
    "colab_type": "code",
    "collapsed": true,
    "id": "O19S-g5qCXLg"
   },
   "outputs": [],
   "source": [
    "if None:\n",
    "  print('Hello')"
   ]
  },
  {
   "cell_type": "markdown",
   "metadata": {
    "colab_type": "text",
    "id": "4pmBQ5toCl1U"
   },
   "source": [
    "a) False\n",
    "\n",
    "b) Hello\n",
    "\n",
    "c) Nothing will be printed\n",
    "\n",
    "d) Syntax error\n",
    "\n",
    "## Ans: c"
   ]
  },
  {
   "cell_type": "markdown",
   "metadata": {
    "colab_type": "text",
    "id": "dll3OA42CvIL"
   },
   "source": [
    "# Q41. The if-elif-else executes only one block of code among several blocks.\n",
    "\n",
    "a) True.\n",
    "\n",
    "b) False\n",
    "\n",
    "c) It depends on the expression used.\n",
    "\n",
    "d) There is no elif statement in Python\n",
    "\n",
    "## Ans: a"
   ]
  },
  {
   "cell_type": "markdown",
   "metadata": {
    "colab_type": "text",
    "id": "lLGnTiQQC638"
   },
   "source": [
    "# Q42. What is the output of the code?\n"
   ]
  },
  {
   "cell_type": "code",
   "execution_count": 0,
   "metadata": {
    "colab": {},
    "colab_type": "code",
    "collapsed": true,
    "id": "CyGMZcDqC86g"
   },
   "outputs": [],
   "source": [
    "for i in [1,0]:\n",
    "  print(i+1)"
   ]
  },
  {
   "cell_type": "markdown",
   "metadata": {
    "colab_type": "text",
    "id": "1UXfuuk9DGrg"
   },
   "source": [
    "a) 2\n",
    " 1\n",
    "\n",
    "b) [2, 1]\n",
    "\n",
    "c) 2\n",
    " 0\n",
    "\n",
    "d) [2, 0]\n",
    "\n",
    "## Ans: a"
   ]
  },
  {
   "cell_type": "markdown",
   "metadata": {
    "colab_type": "text",
    "id": "fvgGF4EtDQvY"
   },
   "source": [
    "## Q43. In the Python, for and while loop can have the optional else statement?\n",
    "\n",
    "a) Only for loop can have the optional else statement\n",
    "\n",
    "b) Only while loop can have the optional else statement\n",
    "\n",
    "c) Both loops can have optional else statement\n",
    "\n",
    "d) Loops cannot have else statement in Python\n",
    "\n",
    "## Ans: c"
   ]
  },
  {
   "cell_type": "markdown",
   "metadata": {
    "colab_type": "text",
    "id": "5ghZ070CDtBK"
   },
   "source": [
    "# Q44. What is the output of the code?"
   ]
  },
  {
   "cell_type": "code",
   "execution_count": 0,
   "metadata": {
    "colab": {},
    "colab_type": "code",
    "collapsed": true,
    "id": "-uwnZWcdDu34"
   },
   "outputs": [],
   "source": [
    "i = sum = 0\n",
    "while i<=4:\n",
    "  sum +=i\n",
    "  i = i+1\n",
    "print(sum)"
   ]
  },
  {
   "cell_type": "markdown",
   "metadata": {
    "colab_type": "text",
    "id": "IoATk0x0EJUu"
   },
   "source": [
    "a) 0\n",
    "\n",
    "b) 10\n",
    "\n",
    "c) 4\n",
    "\n",
    "d) None of the above\n",
    "\n",
    "## Ans: b"
   ]
  },
  {
   "cell_type": "markdown",
   "metadata": {
    "colab_type": "text",
    "id": "2BBlSKbDEP2S"
   },
   "source": [
    "# Q45. What is the output of the code?\n"
   ]
  },
  {
   "cell_type": "code",
   "execution_count": 0,
   "metadata": {
    "colab": {},
    "colab_type": "code",
    "collapsed": true,
    "id": "rvrFaw8RER0i"
   },
   "outputs": [],
   "source": [
    "while 4==4:\n",
    "  print('4')"
   ]
  },
  {
   "cell_type": "markdown",
   "metadata": {
    "colab_type": "text",
    "id": "5dwshT8vEfLX"
   },
   "source": [
    "a) 4 is printed once\n",
    "\n",
    "b) 4 is printed four times\n",
    "\n",
    "c) 4 is printed infinitely until the program closes\n",
    "\n",
    "d) Syntax error\n",
    "\n",
    "## Ans: c"
   ]
  },
  {
   "cell_type": "markdown",
   "metadata": {
    "colab_type": "text",
    "id": "07qHJn7HEpXw"
   },
   "source": [
    "# Q46. Is it better to use the for loop instead of while if we are iterating through a sequence?\n",
    "\n",
    "a) No, it’s better to use the while loop.\n",
    "\n",
    "b) Yes, for loop is more pythonic choice.\n",
    "\n",
    "c) No, we cannot iterate through a sequence using a while loop.\n",
    "\n",
    "d) No, we cannot iterate through a sequence using loops.\n",
    "\n",
    "## Ans: b"
   ]
  },
  {
   "cell_type": "markdown",
   "metadata": {
    "colab_type": "text",
    "id": "Y9v_1cpUFd7P"
   },
   "source": [
    "# Q47. Which of the following statement is true?\n",
    "\n",
    "a) “break”- It terminates the loop containing it.\n",
    "\n",
    "b) “continue” - It is used to skip the rest of the code inside the loops.\n",
    "\n",
    "c) break and continue: These are almost always used with if, if...else and if...elif...else\n",
    "statements.\n",
    "\n",
    "d) All of the above\n",
    "\n",
    "## Ans: a"
   ]
  },
  {
   "cell_type": "markdown",
   "metadata": {
    "colab_type": "text",
    "id": "oVxIoMrsNjvm"
   },
   "source": [
    "# Q48. What is the output of the code?\n"
   ]
  },
  {
   "cell_type": "code",
   "execution_count": 0,
   "metadata": {
    "colab": {},
    "colab_type": "code",
    "collapsed": true,
    "id": "dZZ3N1nbNpKf"
   },
   "outputs": [],
   "source": [
    "for char in 'PYTHON STRING':\n",
    "  if char == ' ':\n",
    "    break\n",
    "  print(char, end='')\n",
    "  if char=='O':\n",
    "    continue\n"
   ]
  },
  {
   "cell_type": "markdown",
   "metadata": {
    "colab_type": "text",
    "id": "22FSZyxMOjWJ"
   },
   "source": [
    "a) PYTHON\n",
    "\n",
    "b) PYTHONSTRING\n",
    "\n",
    "c) PYTHN\n",
    "\n",
    "d) STRING\n",
    "\n",
    "## Ans: a"
   ]
  },
  {
   "cell_type": "markdown",
   "metadata": {
    "colab_type": "text",
    "id": "Fcu4ax18Ow_z"
   },
   "source": [
    "# Q49. Which of the statement is true about the “pass” statement?\n",
    "\n",
    "a) Python interpreter- It ignores the “pass” statement like comments.\n",
    "\n",
    "b) Pass statement: It terminates the loop containing pass statement.\n",
    "\n",
    "c) It is used as the placeholder for future implementation of functions, loops, etc\n",
    "\n",
    "d) All of the above\n",
    "\n",
    "## Ans: c"
   ]
  },
  {
   "cell_type": "markdown",
   "metadata": {
    "colab_type": "text",
    "id": "-Czjy2s9Pmta"
   },
   "source": [
    "# Q50. In regards to separated value files such as .csv and .tsv, what is the delimiter?\n",
    "\n",
    "a) Anywhere the comma (,) character is used in the file.\n",
    "\n",
    "b) Delimiters are not used in separated value files.\n",
    "\n",
    "c) Any character such as the comma (,) or tab (\\t) that is used to separate\n",
    "the column data.\n",
    "\n",
    "d) Any character such as the comma (,) or tab (\\t) that is used to separate the row data\n",
    "\n",
    "## Ans: c"
   ]
  },
  {
   "cell_type": "markdown",
   "metadata": {
    "colab_type": "text",
    "id": "8_XaPv63P5uG"
   },
   "source": [
    "# Q51. In separated value files such as .csv and .tsv, what does the first row in the file typically contain?\n",
    "\n",
    "a) The column names of the data.\n",
    "\n",
    "b) The author of the table data.\n",
    "\n",
    "c) The source of the data\n",
    "\n",
    "d) Notes about the table data\n",
    "\n",
    "## Ans: a"
   ]
  },
  {
   "cell_type": "markdown",
   "metadata": {
    "colab_type": "text",
    "id": "KGWUdDLNnKfD"
   },
   "source": [
    "# Q52. Assume you have a file object my_data, which has properly opened a separated value file that uses the tab character (\\t) as the delimiter. What is the proper way to open the file using the Python CSV module and assign it to the variable csv_reader?\n",
    "\n",
    "a) csv.tab_reader(my_data)\n",
    "\n",
    "b) csv.reader(my_data, delimiter='\\t')\n",
    "\n",
    "c) csv.reader(my_data)\n",
    "\n",
    "d) csv.reader(my_data, tab_delimited=True)\n",
    "\n",
    "## Ans: b"
   ]
  },
  {
   "cell_type": "markdown",
   "metadata": {
    "colab_type": "text",
    "id": "-ZOI2YtrntiU"
   },
   "source": [
    "# Q53. When iterating over an object returned from csv.reader(), what is returned with each iteration? For example, given the following code block that assumes csv_reader is an object returned from csv.reader(), what would be printed to the console with each iteration?\n",
    "\n",
    "for item in csv_reader:\n",
    " print(item)\n",
    "\n",
    "a) The full line of the file as a string\n",
    "\n",
    "b) The row data as a list\n",
    "\n",
    "c) The individual value data t\n",
    "\n",
    "d) The column data as a list\n",
    "\n",
    "## Ans: b"
   ]
  },
  {
   "cell_type": "markdown",
   "metadata": {
    "colab_type": "text",
    "id": "XwEoYmiNoc6J"
   },
   "source": [
    "# Q54. When writing to a CSV file using the .writerow() method of the csv.DictWriter object, what must each key in the input dict represent? Below is an example:"
   ]
  },
  {
   "cell_type": "code",
   "execution_count": 0,
   "metadata": {
    "colab": {},
    "colab_type": "code",
    "collapsed": true,
    "id": "laJYu0Rft0kP"
   },
   "outputs": [],
   "source": [
    "with open('test_file.csv', mode='w') as csv_file:\n",
    "  writer = csv.DictWriter(csv_file,fieldnames=['first_col', 'second_col'])\n",
    "  writer.writeheader()\n",
    "  # This input dictionary is what the question is referring\n",
    "  # to and is not necessarily correct as shown.\n",
    "  writer.writerow({'first_col':'value1', 'second_col':'value2'})"
   ]
  },
  {
   "cell_type": "markdown",
   "metadata": {
    "colab_type": "text",
    "id": "tgPfR7rUuCRk"
   },
   "source": [
    "a) Each key indicates the row index as an integer for where the data should go\n",
    "\n",
    "b) Each key must match up to the field names (index names) used to identify the row data\n",
    "\n",
    "c) Each key must match up to the field names (column names) used to identify the column\n",
    "data\n",
    "\n",
    "d) Each key indicates the column index as an integer for where the value should go\n",
    "\n",
    "## Ans: c"
   ]
  },
  {
   "cell_type": "markdown",
   "metadata": {
    "colab_type": "text",
    "id": "RBcbM7KGuPWh"
   },
   "source": [
    "# Q55. Which is the correct way to open the CSV file hrdata.csv for reading using the pandas package? Assume that the pandas package has already been imported.\n",
    "\n",
    "a) pandas.open_csv('hrdata.csv', 'r')\n",
    "\n",
    "b) pandas.read_table('hrdata.csv')\n",
    "\n",
    "c) pandas.read_csv('hrdata.csv')\n",
    "\n",
    "d) pandas.open('hrdata.csv','r')\n",
    "\n",
    "## Ans: c"
   ]
  },
  {
   "cell_type": "markdown",
   "metadata": {
    "colab_type": "text",
    "id": "Lj-Cj8hsum7A"
   },
   "source": [
    "# Q56. By default, pandas uses 0-based indices for indexing rows. Which is the correct way to import the CSV file hrdata.csv for reading\n",
    "\n",
    "a) pandas.read_csv('hrdata.csv', index_col='Name')\n",
    "\n",
    "b) pandas.read_csv('hrdata.csv', index=0, index_col_name='Name')\n",
    "\n",
    "c) pandas.read_csv('hrdata.csv', index='Name')\n",
    "\n",
    "d) pandas.read_csv('hrdata.csv', index_col=0)\n",
    "\n",
    "## Ans: a"
   ]
  },
  {
   "cell_type": "markdown",
   "metadata": {
    "colab_type": "text",
    "id": "YzkFVDfxvwry"
   },
   "source": [
    "# Q57. Given the file dog_breeds.txt, which of the following is the correct way to open the file for reading as a text file? Select all that apply.\n",
    "\n",
    "a) open('dog_breeds.txt', 'w')\n",
    "\n",
    "b) open('dog_breeds.txt', 'r')\n",
    "\n",
    "c) open('dog_breeds.txt')\n",
    "\n",
    "d) open('dog_breeds.txt', 'wb')\n",
    "\n",
    "e) open('dog_breeds.txt', 'rb')\n",
    "\n",
    "## Ans: b and c"
   ]
  },
  {
   "cell_type": "markdown",
   "metadata": {
    "colab_type": "text",
    "id": "30N-om21zKs_"
   },
   "source": [
    "# Q58. Given the following directory structure: Assuming that the cwd is in the root folder where animals reside, what is the full path tothe feline folder?\n",
    "\n",
    "## Ans: /cwd/animals/feline\n"
   ]
  },
  {
   "cell_type": "markdown",
   "metadata": {
    "colab_type": "text",
    "id": "ppTl6E67CTYu"
   },
   "source": [
    "# Q59. Given the filejack_russell.png, which of the following is the correct way to open the file forreading as abuffered binary file? Select all that apply\n",
    "\n",
    "## Ans: open('jack_russell.png', 'rb')"
   ]
  },
  {
   "cell_type": "markdown",
   "metadata": {
    "colab_type": "text",
    "id": "ee2_QfYOCyk_"
   },
   "source": [
    "# Q60. Using the same directory structure as before:\n",
    "\n",
    "## Ans: /cwd/ursine/bears.git"
   ]
  },
  {
   "cell_type": "markdown",
   "metadata": {
    "colab_type": "text",
    "id": "C5aIma8IDHlQ"
   },
   "source": [
    "# Q61. Whenever possible, what is the recommended way to ensure that a file object is properly closed after usage?\n",
    "\n",
    "a)Making sure that you use the.close()method before the end of the script\n",
    "\n",
    "b)It doesn’t matter\n",
    "\n",
    "c)By using the try/finally block\n",
    "\n",
    "d)By using the with statement\n",
    "\n",
    "## Ans: d"
   ]
  },
  {
   "cell_type": "markdown",
   "metadata": {
    "colab_type": "text",
    "id": "o4tggNEjEJTc"
   },
   "source": [
    "# Q62. Using the same directory structure as before\n",
    "\n",
    "## Ans: /ursine/bears.fig"
   ]
  },
  {
   "cell_type": "markdown",
   "metadata": {
    "colab_type": "text",
    "id": "0QaXzfN5HAUQ"
   },
   "source": [
    "# Q63. When reading a file using the file object, what method is best for reading the entire file into a single string?\n",
    "\n",
    "a).read_file_to_str()\n",
    "\n",
    "b).read()\n",
    "\n",
    "c).readlines()\n",
    "\n",
    "d).readline()\n",
    "\n",
    "## Ans: b"
   ]
  },
  {
   "cell_type": "markdown",
   "metadata": {
    "colab_type": "text",
    "id": "tvFrsIr8HJ0e"
   },
   "source": [
    "# Q64. The value 1.73 rounded to one decimal place using the “rounding up” strategy is...\n",
    "\n",
    "a)1.8\n",
    "\n",
    "b)1.7\n",
    "\n",
    "## Ans: b"
   ]
  },
  {
   "cell_type": "markdown",
   "metadata": {
    "colab_type": "text",
    "id": "CQGYrbXfHW9U"
   },
   "source": [
    "# Q65. The value-2.961rounded to two decimal places using the “rounding down” strategy is...\n",
    "\n",
    "a)-2.96\n",
    "\n",
    "b)-2.97\n",
    "\n",
    "## Ans: a"
   ]
  },
  {
   "cell_type": "markdown",
   "metadata": {
    "colab_type": "text",
    "id": "vJL-MHL0IYrl"
   },
   "source": [
    "# Q66. When a value is truncated to 3 decimal places, which of the following is true?\n",
    "\n",
    "a)Positive numbers are rounded up,and negative numbers are rounded down.\n",
    "\n",
    "b)Positive numbers are rounded down,and negative numbers are rounded up.\n",
    "\n",
    "c)Both positive and negative numbers are rounded up.\n",
    "\n",
    "d)Both positive and negative numbers are rounded down.\n",
    "\n",
    "## Ans: d"
   ]
  },
  {
   "cell_type": "code",
   "execution_count": 0,
   "metadata": {
    "colab": {},
    "colab_type": "code",
    "collapsed": true,
    "id": "CyrCXl6bJBSA"
   },
   "outputs": [],
   "source": [
    "import math\n",
    "def truncate(number, digits) -> float:\n",
    "    stepper = 10.0 ** digits\n",
    "    return math.trunc(stepper * number) / stepper"
   ]
  },
  {
   "cell_type": "code",
   "execution_count": 7,
   "metadata": {
    "colab": {
     "base_uri": "https://localhost:8080/",
     "height": 34
    },
    "colab_type": "code",
    "collapsed": false,
    "executionInfo": {
     "elapsed": 1122,
     "status": "ok",
     "timestamp": 1574124751049,
     "user": {
      "displayName": "PaviVasee Vijayakumar",
      "photoUrl": "",
      "userId": "09210351112903337503"
     },
     "user_tz": -480
    },
    "id": "gmwWra3JJEjP",
    "outputId": "c527d815-ebf8-4430-dc26-bd35d4c45b91"
   },
   "outputs": [
    {
     "data": {
      "text/plain": [
       "1324343032.324"
      ]
     },
     "execution_count": 7,
     "metadata": {
      "tags": []
     },
     "output_type": "execute_result"
    }
   ],
   "source": [
    "truncate(1324343032.3247325235, 3)"
   ]
  },
  {
   "cell_type": "markdown",
   "metadata": {
    "colab_type": "text",
    "id": "Ea6HjUWkJePb"
   },
   "source": [
    "# Q67. The value-0.045rounded to 2 decimal places using the “round half away from zero” strategy is...\n",
    "\n",
    "a)-0.05\n",
    "\n",
    "b)-0.04\n",
    "\n",
    "## Ans: a"
   ]
  },
  {
   "cell_type": "markdown",
   "metadata": {
    "colab_type": "text",
    "id": "8IZ9TN1qK_6s"
   },
   "source": [
    "# Q68. Which rounding strategy does Python’s built-inround()function use?\n",
    "\n",
    "a)Round half down\n",
    "\n",
    "b)Round half away from zero\n",
    "\n",
    "c)Round half up\n",
    "\n",
    "d)Round half to even\n",
    "\n",
    "## Ans: c"
   ]
  },
  {
   "cell_type": "markdown",
   "metadata": {
    "colab_type": "text",
    "id": "6PpBj2P-Mdzb"
   },
   "source": [
    "# Q69. The value4.65 rounded to one decimal place using the “round half to even” strategy is...\n",
    "\n",
    "a)4.6\n",
    "\n",
    "b)4.7\n",
    "\n",
    "## Ans: a"
   ]
  },
  {
   "cell_type": "markdown",
   "metadata": {
    "colab_type": "text",
    "id": "miaytTfzMi6Y"
   },
   "source": [
    "# Q70. Which problem arises due to the multiple inheritances, if hierarchical inheritance is used previously for its base classes?\n",
    "\n",
    "a) Diamond\n",
    "\n",
    "b) Circle\n",
    "\n",
    "c) Triangle\n",
    "\n",
    "d) Loop\n",
    "\n",
    "## Ans: a"
   ]
  },
  {
   "cell_type": "markdown",
   "metadata": {
    "colab_type": "text",
    "id": "srZ7um0oM0dd"
   },
   "source": [
    "# Q71. How many classes should a program contain to implement the multiple inheritances?\n",
    "\n",
    "a) Only 1\n",
    "\n",
    "b) At least 1\n",
    "\n",
    "c) At least 3\n",
    "\n",
    "d) Exactly 3\n",
    "\n",
    "## Ans: c"
   ]
  },
  {
   "cell_type": "markdown",
   "metadata": {
    "colab_type": "text",
    "id": "bmgKwzsKUNHg"
   },
   "source": [
    "# Q72. If class a inherits class b and class c as “class a: public class b, public class c{// class body ;}; ”, which class constructor will be called first?\n",
    "\n",
    "a) Class a.\n",
    "\n",
    "b) Class b.\n",
    "\n",
    "c) Class c.\n",
    "\n",
    "d) All together.\n",
    "\n",
    "## Ans: b"
   ]
  },
  {
   "cell_type": "markdown",
   "metadata": {
    "colab_type": "text",
    "id": "2W5wVYc4VjzS"
   },
   "source": [
    "# Q73.If all the members of all base classes are private then,\n",
    "\n",
    "a) There won’t be any use of multiple inheritance\n",
    "\n",
    "b) It will make all members as public.\n",
    "\n",
    "c) Derived class can still access them in th emultiple inheritance\n",
    "\n",
    "d) Compile-time error\n",
    "\n",
    "## Ans d"
   ]
  },
  {
   "cell_type": "markdown",
   "metadata": {
    "colab_type": "text",
    "id": "mYhvTVU1Y-19"
   },
   "source": [
    "# Q74. Can the derived class be made abstract if multiple inheritance is used?\n",
    "\n",
    "a) No, because other classes must be abstract too\n",
    "\n",
    "b) Yes, if all the functions are implemented\n",
    "\n",
    "c) Yes, if all the methods are predefined\n",
    "\n",
    "d) No, since constructors won’t be there\n",
    "\n",
    "## Ans d"
   ]
  },
  {
   "cell_type": "markdown",
   "metadata": {
    "colab_type": "text",
    "id": "TuDIJJmibH1a"
   },
   "source": [
    "# Q75. Which among the following best defines the multilevel inheritance?\n",
    "\n",
    "a) A class derived from another derived class\n",
    "\n",
    "b) Classes being derived from other derived classes\n",
    "\n",
    "c) Continuing single level inheritance\n",
    "\n",
    "d) Class which have more than one parent\n",
    "\n",
    "## Ans: a"
   ]
  },
  {
   "cell_type": "markdown",
   "metadata": {
    "colab_type": "text",
    "id": "U81g2dUJbwqJ"
   },
   "source": [
    "# Q76. If there are 5 classes, E is derived from D, D from C, C from B and B from A. Which class constructor will be called first if the object of E or D is created?\n",
    "\n",
    "a) A\n",
    "\n",
    "b) B\n",
    "\n",
    "c) C\n",
    "\n",
    "d) A and B\n",
    "\n",
    "## Ans: a"
   ]
  },
  {
   "cell_type": "markdown",
   "metadata": {
    "colab_type": "text",
    "id": "IXdT3Js6cUD8"
   },
   "source": [
    "### Q77. Which Class is having the highest degree of abstraction in multilevel inheritance of 5 levels?\n",
    "\n",
    "a) Class at 1st level\n",
    "\n",
    "b) Class 2nd last level\n",
    "\n",
    "c) Class at 5th level\n",
    "\n",
    "d) All with same abstraction\n",
    "\n",
    "## Ans a"
   ]
  },
  {
   "cell_type": "markdown",
   "metadata": {
    "colab_type": "text",
    "id": "0LTUV8s-c9Ki"
   },
   "source": [
    "# Q78. Multilevel inheritance allows _________________ in the program.\n",
    "\n",
    "a) Only 7 levels of inheritance\n",
    "\n",
    "b) At least 7 levels of inheritance\n",
    "\n",
    "c) At most 16 levels of inheritance\n",
    "\n",
    "d) As many levels of inheritance as required\n",
    "\n",
    "## Ans: d"
   ]
  },
  {
   "cell_type": "markdown",
   "metadata": {
    "colab_type": "text",
    "id": "IRiidbj3dWV9"
   },
   "source": [
    "# Q79. If all the classes used parameterized constructors and no default constructor then, ___________\n",
    "\n",
    "a) The object of lower-level classes can’t be created\n",
    "\n",
    "b) Object of lower-level classes must call parent class constructors explicitly\n",
    "\n",
    "c) Object of lower-level classes must define all the default constructors\n",
    "\n",
    "d) Only object of first-class can be created, which is first-parent\n",
    "\n",
    "## Ans: b"
   ]
  },
  {
   "cell_type": "markdown",
   "metadata": {
    "colab_type": "text",
    "id": "zoBu0W-bd244"
   },
   "source": [
    "# Q80. Which is the universal exception handler class?\n",
    "\n",
    "a) Object\n",
    "\n",
    "b) Math\n",
    "\n",
    "c) Errors\n",
    "\n",
    "d) Exceptions\n",
    "\n",
    "## Ans: d\n"
   ]
  },
  {
   "cell_type": "markdown",
   "metadata": {
    "colab_type": "text",
    "id": "HiI6MVRRglar"
   },
   "source": [
    "# Q81. What are two exception classes in the hierarchy of java exceptions class?\n",
    "\n",
    "a) Runtime exceptions only\n",
    "\n",
    "b) Compile-time exceptions only\n",
    "\n",
    "c) Runtime exceptions and other exceptions\n",
    "\n",
    "d) Other exceptions\n",
    "\n",
    "## Ans: c"
   ]
  },
  {
   "cell_type": "markdown",
   "metadata": {
    "colab_type": "text",
    "id": "SRZUionFhPgZ"
   },
   "source": [
    "# Q82. Which are the two blocks that are used to check error and handle the error?\n",
    "\n",
    "a) Try and catch\n",
    "\n",
    "b) Trying and catching\n",
    "\n",
    "c) Do and while\n",
    "\n",
    "d) TryDo and Check\n",
    "\n",
    "## Ans a"
   ]
  },
  {
   "cell_type": "markdown",
   "metadata": {
    "colab_type": "text",
    "id": "Ux53Bc5FheMY"
   },
   "source": [
    "# Q83. To catch the exceptions ___________________\n",
    "\n",
    "a) An object must be created to catch the exception\n",
    "\n",
    "b) A variable should be created to catch the exception\n",
    "\n",
    "c) An array should be created to catch all the exceptions\n",
    "\n",
    "d) A string hasto be created to store exception\n",
    "\n",
    "## Ans: a"
   ]
  },
  {
   "cell_type": "markdown",
   "metadata": {
    "colab_type": "text",
    "id": "zGmYXDughwlH"
   },
   "source": [
    "# Q84. Which class is used to handle the input and output exceptions?\n",
    "\n",
    "a) InputOutput\n",
    "\n",
    "b) InputOutputExceptions\n",
    "\n",
    "c) IOExceptions\n",
    "\n",
    "d) ExceptionsIO\n",
    "\n",
    "## Ans: c"
   ]
  },
  {
   "cell_type": "markdown",
   "metadata": {
    "colab_type": "text",
    "id": "QvcjEZiqiGiR"
   },
   "source": [
    "# Q85. Which among the following is true for the class exceptions?\n",
    "\n",
    "a) Only base class can give rise to the exceptions\n",
    "\n",
    "b) Only derived class can give rise to exceptions\n",
    "\n",
    "c) Either base or derived class may produce exceptions\n",
    "\n",
    "d) Both base class and derived class may produce exceptions\n",
    "\n",
    "## Ans: d"
   ]
  },
  {
   "cell_type": "markdown",
   "metadata": {
    "colab_type": "text",
    "id": "8pXA3UYQjc9u"
   },
   "source": [
    "# Q86. If both base and derived class caught the exceptions,_____.\n",
    "\n",
    "a) Then catch block of a derived class must be defined before the base class\n",
    "\n",
    "b) Then catch block of the base class must be defined before the derived class\n",
    "\n",
    "c) Then catch block of base and derived classes don'tmatter.\n",
    "\n",
    "d) catch block of the base and derived classes are not mandatory to be defined\n",
    "\n",
    "## Ans: a"
   ]
  },
  {
   "cell_type": "markdown",
   "metadata": {
    "colab_type": "text",
    "id": "51Dguf5wkLqB"
   },
   "source": [
    "# Q87. The catching of base class the exception _________in java.\n",
    "\n",
    "a) After derived class is not allowed by the compiler\n",
    "\n",
    "b) Before derived class is not allowed by the compiler\n",
    "\n",
    "c) Before derived class is allowed\n",
    "\n",
    "d) After derived class can’t be done\n",
    "\n",
    "## Ans: b"
   ]
  },
  {
   "cell_type": "markdown",
   "metadata": {
    "colab_type": "text",
    "id": "Ztyrhs37koyQ"
   },
   "source": [
    "# Q88. Which of the following handles the undefined class in the program?\n",
    "\n",
    "a) ClassNotFound\n",
    "\n",
    "b) NoClassException\n",
    "\n",
    "c) ClassFoundException\n",
    "\n",
    "d) ClassNotFoundException\n",
    "\n",
    "## Ans: d"
   ]
  },
  {
   "cell_type": "markdown",
   "metadata": {
    "colab_type": "text",
    "id": "d7MxTcftlbZy"
   },
   "source": [
    "# Q89. Which among the following is true? \n",
    "\n",
    "a) Only the base class catch the blocks are important.\n",
    "\n",
    "b) Only the derived class catch blocks are important.\n",
    "\n",
    "c) Both the base and derived class catch the blocks are important.\n",
    "\n",
    "d) If the base and derived classes both produce exceptions, the program doesn’t run.\n",
    "\n",
    "\n",
    "## Ans c"
   ]
  },
  {
   "cell_type": "markdown",
   "metadata": {
    "colab_type": "text",
    "id": "qaY5fdNEnP0_"
   },
   "source": [
    "# Q90. Which condition among the following might result in memory exception?\n",
    "\n",
    "a) False if conditions\n",
    "\n",
    "b) Nested if conditions that are all false\n",
    "\n",
    "c) Infinite loops\n",
    "\n",
    "d) The loop that runs exactly 99 times\n",
    "\n",
    "## Ans: c"
   ]
  },
  {
   "cell_type": "markdown",
   "metadata": {
    "colab_type": "text",
    "id": "oxd3TLZ8niXr"
   },
   "source": [
    "# Q91. Which among the following is the correct definition for static member functions?\n",
    "\n",
    "a) Functions created to allocate the constant values to each object\n",
    "\n",
    "b) Functions made to maintain a single copy of member functions for all the objects\n",
    "\n",
    "c) Functions created to define the static members\n",
    "\n",
    "d) Functions made to manipulate the static programs\n",
    "\n",
    "## Ans: b"
   ]
  },
  {
   "cell_type": "markdown",
   "metadata": {
    "colab_type": "text",
    "id": "NBwUmKSToFbp"
   },
   "source": [
    "# Q92. The static member functions __________________\n",
    "\n",
    "a) Having access to all themembers of theclass.\n",
    "\n",
    "b) Having access to only constant members of a class.\n",
    "\n",
    "c) Having access to only the static members of a class.\n",
    "\n",
    "d) Having direct access to all other class members also.\n",
    "\n",
    "## Ans: c"
   ]
  },
  {
   "cell_type": "markdown",
   "metadata": {
    "colab_type": "text",
    "id": "JIkA9JR2oUCN"
   },
   "source": [
    "# Q93. Which is the correct syntax to access the static member functions with a class name?\n",
    "\n",
    "a) className . functionName;\n",
    "\n",
    "b) className -> functionName;\n",
    "\n",
    "c) className : functionName;\n",
    "\n",
    "d) className :: functionName;\n",
    "\n",
    "## Ans: d"
   ]
  },
  {
   "cell_type": "markdown",
   "metadata": {
    "colab_type": "text",
    "id": "dO3n9CBFogvf"
   },
   "source": [
    "# Q94. The static members are ______________________\n",
    "\n",
    "a) Created with each new object.\n",
    "\n",
    "b) Created twice in theprogram\n",
    "\n",
    "c) Created as many times,theclass is being used.\n",
    "\n",
    "d) Created and initialised,only once\n",
    "\n",
    "## Ans: d"
   ]
  },
  {
   "cell_type": "markdown",
   "metadata": {
    "colab_type": "text",
    "id": "FqS8mcR9o4xd"
   },
   "source": [
    "# Q95. Which among the following is true?\n",
    "\n",
    "a) Static member functions can be overloaded.\n",
    "\n",
    "b) Static member functions can’t be overloaded.\n",
    "\n",
    "c) Static member functions can be overloaded usingthederived classes.\n",
    "\n",
    "d) Static member functions are implicitly overloaded.\n",
    "\n",
    "## Ans b"
   ]
  },
  {
   "cell_type": "markdown",
   "metadata": {
    "colab_type": "text",
    "id": "NigIQ43vpSSb"
   },
   "source": [
    "# Q96. The static member functions _______________\n",
    "\n",
    "a) Can’t be declared const.\n",
    "\n",
    "b) Can’t be declared volatile.\n",
    "\n",
    "c) Can’t be declared const or volatile.\n",
    "\n",
    "d) Can’t be declared const, volatile,or constantvolatile.\n",
    "\n",
    "## Ans: d"
   ]
  },
  {
   "cell_type": "markdown",
   "metadata": {
    "colab_type": "text",
    "id": "uKXHyt8_plCq"
   },
   "source": [
    "# Q97. Which among the following can’t be used to access the members in anyway?\n",
    "\n",
    "a) Scope resolution.\n",
    "\n",
    "b) Arrow operator.\n",
    "\n",
    "c) Single colon.\n",
    "\n",
    "d) Dot operator.\n",
    "\n",
    "## Ans c"
   ]
  },
  {
   "cell_type": "markdown",
   "metadata": {
    "colab_type": "text",
    "id": "5nrrOJgGp6Rp"
   },
   "source": [
    "# Q98. If static data member are made inline, ______________\n",
    "\n",
    "a) Those should be initialised outside of the class.\n",
    "\n",
    "b) Those can’t be initialised with the class.\n",
    "\n",
    "c) Those can be initialised within the class.\n",
    "\n",
    "d) Class members can't use those.\n",
    "\n",
    "## Ans: a"
   ]
  },
  {
   "cell_type": "markdown",
   "metadata": {
    "colab_type": "text",
    "id": "CbDO6LPEqpnc"
   },
   "source": [
    "# Q99. The static data member _________________\n",
    "\n",
    "a) It can be mutable.\n",
    "\n",
    "b) Can’t be mutable.\n",
    "\n",
    "c) Can’t be an integer.\n",
    "\n",
    "d) Can’t be characters.\n",
    "\n",
    "## Ans: b"
   ]
  },
  {
   "cell_type": "markdown",
   "metadata": {
    "colab_type": "text",
    "id": "7NY7kLQyrIwG"
   },
   "source": [
    "# Q100. We can use the static member functions and static data member __________________.\n",
    "\n",
    "a) Even if a class object is not created\n",
    "\n",
    "b) Even if a class is not defined\n",
    "\n",
    "c) Even if a class doesn’t contain any static member\n",
    "\n",
    "d) Even if a class doesn’t have a complete definition\n",
    "\n",
    "## Ans a"
   ]
  },
  {
   "cell_type": "markdown",
   "metadata": {
    "colab_type": "text",
    "id": "yjL1kAdUrdWT"
   },
   "source": [
    "# Q101.Point out the wrong statement:\n",
    "\n",
    "a) ipython is an enhanced interactive python shell.\n",
    "\n",
    "b) Matplotlib: It enables us to plot graphics.\n",
    "\n",
    "c) rPy provides lots of scientific routines that work on top of NumPy.\n",
    "\n",
    "d) all of the mentioned.\n",
    "\n",
    "## Ans c\n"
   ]
  },
  {
   "cell_type": "markdown",
   "metadata": {
    "colab_type": "text",
    "id": "GiCoO3TotFzX"
   },
   "source": [
    "# Q102. The ________ function returns its argument with the modified shape, whereas the ________ method modifies the array itself.\n",
    "\n",
    "a) reshape,resize.\n",
    "\n",
    "b) resize,reshape.\n",
    "\n",
    "c) reshape2,resize.\n",
    "\n",
    "d) all of the mentioned.\n",
    "\n",
    "## Ans: a"
   ]
  },
  {
   "cell_type": "markdown",
   "metadata": {
    "colab_type": "text",
    "id": "dHlWym4et8V0"
   },
   "source": [
    "# Q103. To create sequences of the numbers, NumPy provides a function __________ analogous to range that returns arrays instead of lists.\n",
    "\n",
    "a) arrange.\n",
    "\n",
    "b) aspace.\n",
    "\n",
    "c) aline.\n",
    "\n",
    "d) all of the mentioned.\n",
    "\n",
    "## Ans: a"
   ]
  },
  {
   "cell_type": "markdown",
   "metadata": {
    "colab_type": "text",
    "id": "IqVcTuT2un3A"
   },
   "source": [
    "# Q104. Point out the correct statement:\n",
    "\n",
    "a) NumPy main object is the Homogeneous -Multidimensional array.\n",
    "\n",
    "b) In Numpy, dimensions are called axes.\n",
    "\n",
    "c) Numpy array class is called ndarray.\n",
    "\n",
    "d)All of the Mentioned\n",
    "\n",
    "## Ans d"
   ]
  },
  {
   "cell_type": "markdown",
   "metadata": {
    "colab_type": "text",
    "id": "WkovHjgUv-0f"
   },
   "source": [
    "# Q105. Which of the following function stack 1D array as the columns into the 2D array?\n",
    "\n",
    "a) row_stack.\n",
    "\n",
    "b) column_stack.\n",
    "\n",
    "c) com_stack.\n",
    "\n",
    "d) all of the mentioned\n",
    "\n",
    "## Ans b"
   ]
  },
  {
   "cell_type": "markdown",
   "metadata": {
    "colab_type": "text",
    "id": "UgyGQMDuxBtv"
   },
   "source": [
    "### Q106. ndarray is also known as analias array.\n",
    "\n",
    "a) True\n",
    "\n",
    "b) False\n",
    "\n",
    "## Ans a"
   ]
  },
  {
   "cell_type": "markdown",
   "metadata": {
    "colab_type": "text",
    "id": "4Ghxd4y8xgOq"
   },
   "source": [
    "# Q107. Which of the following method creates the new array object that looks at the same data?\n",
    "\n",
    "a) view.\n",
    "\n",
    "b) copy.\n",
    "\n",
    "c) paste.\n",
    "\n",
    "d) all of the mentioned\n",
    "\n",
    "## Ans: a"
   ]
  },
  {
   "cell_type": "markdown",
   "metadata": {
    "colab_type": "text",
    "id": "d_a7hjdHx3NO"
   },
   "source": [
    "# Q108. Which of the functionscan be used to combine the different vectors to obtain the result for each n-uplet?\n",
    "\n",
    "a) iid_.\n",
    "\n",
    "b) ix_.\n",
    "\n",
    "c) ixd_.\n",
    "\n",
    "d) all of the mentioned.\n",
    "\n",
    "## Ans: b"
   ]
  },
  {
   "cell_type": "markdown",
   "metadata": {
    "colab_type": "text",
    "id": "qQzFGS7iyNR9"
   },
   "source": [
    "# Q109.ndarray.dataitemSize is the buffer containing actual elements of an array.\n",
    "\n",
    "a) True\n",
    "\n",
    "b) False\n",
    "\n",
    "## Ans: a"
   ]
  },
  {
   "cell_type": "markdown",
   "metadata": {
    "colab_type": "text",
    "id": "M9qcXlW2yzMF"
   },
   "source": [
    "# Q110. Which of the following is in the NumPy library?\n",
    "\n",
    "a) The n-dimensional array object\n",
    "\n",
    "b) The tools for integrating C/C++ and the Fortran code\n",
    "\n",
    "c) Fourier transform\n",
    "\n",
    "d) all of the Mentioned\n",
    "\n",
    "## Ans: d"
   ]
  },
  {
   "cell_type": "markdown",
   "metadata": {
    "colab_type": "text",
    "id": "5Ts48PNdHF_l"
   },
   "source": [
    "# Q111. Which of the following sets the size of the buffer used in ufuncs ?\n",
    "\n",
    "a) bufsize(size)\n",
    "\n",
    "b) setsize(size)\n",
    "\n",
    "c) setbufsize(size)\n",
    "\n",
    "d) all of the Mentioned\n",
    "\n",
    "## Ans: c\n",
    "\n"
   ]
  },
  {
   "cell_type": "markdown",
   "metadata": {
    "colab_type": "text",
    "id": "Z1LkS_0ZHgf6"
   },
   "source": [
    "# Q112. Point out the wrong statement:\n",
    "\n",
    "a) A universal function is the function that operates upon the “ndarrays”in an element-by-element fashion\n",
    "\n",
    "b) In Numpy, universal functions are the instances ofnumpy.ufunction class\n",
    "\n",
    "c) Many of the built-in functions are implemented in compiled C code\n",
    "\n",
    "d) All of the Mentioned\n",
    "\n",
    "## Ans: b\n"
   ]
  },
  {
   "cell_type": "markdown",
   "metadata": {
    "colab_type": "text",
    "id": "8Kxz8ULOITS3"
   },
   "source": [
    "# Q113. Which of the following attribute should be used while checking the type combination input and output?\n",
    "\n",
    "a) .types\n",
    "\n",
    "b) .type\n",
    "\n",
    "c) .class\n",
    "\n",
    "d) all of the Mentioned\n",
    "\n",
    "## Ans: a"
   ]
  },
  {
   "cell_type": "markdown",
   "metadata": {
    "colab_type": "text",
    "id": "wscDwub4I4Ws"
   },
   "source": [
    "# Q114. Which of the following returns an array of “ones”with the same shape and type as a given array?\n",
    "\n",
    "a) all_like\n",
    "\n",
    "b) ones_like\n",
    "\n",
    "c) one_alike\n",
    "\n",
    "d) all of the Mentioned\n",
    "\n",
    "## Ans: b"
   ]
  },
  {
   "cell_type": "markdown",
   "metadata": {
    "colab_type": "text",
    "id": "mz9SFJBCJMT-"
   },
   "source": [
    "# Q115. Point out the wrong statement:\n",
    "\n",
    "a) Each universal function takes an array input and produces array outputs\n",
    "\n",
    "b) Broadcasting is used throughout NumPy to decide how to handle the disparately shaped arrays\n",
    "\n",
    "c) The output of the ufunc is necessarily a ndarray, if all the input arguments are ndarrays\n",
    "\n",
    "d) All of the Mentioned\n",
    "\n",
    "## Ans: c"
   ]
  },
  {
   "cell_type": "markdown",
   "metadata": {
    "colab_type": "text",
    "id": "uAMkzmoJJ5GQ"
   },
   "source": [
    "# Q116. Which of the following set ofa floating-point error callback function or a log object?\n",
    "\n",
    "a) setter.\n",
    "\n",
    "b) settercall.\n",
    "\n",
    "c) setterstack.\n",
    "\n",
    "d) all of the mentioned.\n",
    "\n",
    "## Ans: b"
   ]
  },
  {
   "cell_type": "markdown",
   "metadata": {
    "colab_type": "text",
    "id": "jBtRWvYMKKnQ"
   },
   "source": [
    "# Q117. Some ufuncs can take output arguments.\n",
    "\n",
    "a) True\n",
    "\n",
    "b) Fals\n",
    "\n",
    "## Ans: b"
   ]
  },
  {
   "cell_type": "markdown",
   "metadata": {
    "colab_type": "text",
    "id": "tPX94kb4KTjd"
   },
   "source": [
    "# Q118. ___________ decompose the elements of x into the mantissa and the two’s exponent.\n",
    "\n",
    "a) trunc\n",
    "\n",
    "b) fmod\n",
    "\n",
    "c) frexp\n",
    "\n",
    "d) ldexp\n",
    "\n",
    "## Ans: c"
   ]
  },
  {
   "cell_type": "markdown",
   "metadata": {
    "colab_type": "text",
    "id": "FvzukcFrKiYp"
   },
   "source": [
    "# Q119. Which of the following function take the only a single value as input?\n",
    "\n",
    "a) iscomplex.\n",
    "\n",
    "b) minimum.\n",
    "\n",
    "c) fmin.\n",
    "\n",
    "d) all of the mentioned\n",
    "\n",
    "## Ans: a"
   ]
  },
  {
   "cell_type": "markdown",
   "metadata": {
    "colab_type": "text",
    "id": "CBt5qDJWKtJn"
   },
   "source": [
    "# Q120. The array object returned by the _array_prepare_ is passed to ufuncforcomputation.\n",
    "\n",
    "a) True\n",
    "\n",
    "b) False\n",
    "\n",
    "## Ans: a"
   ]
  },
  {
   "cell_type": "markdown",
   "metadata": {
    "colab_type": "text",
    "id": "kP8vehe3K10-"
   },
   "source": [
    "# Q121. All pandas data structures are ___mutable but not always _______-mutable.\n",
    "\n",
    "a) size,value.\n",
    "\n",
    "b) semantic,size.\n",
    "\n",
    "c) value,size.\n",
    "\n",
    "d) none of the mentioned\n",
    "\n",
    "## Ans: c"
   ]
  },
  {
   "cell_type": "markdown",
   "metadata": {
    "colab_type": "text",
    "id": "SOxbvyBFLTSG"
   },
   "source": [
    "# Q122. Point out the correct statement:\n",
    "\n",
    "a) Pandas consist of a set of the labelled array data structures\n",
    "\n",
    "b) Pandas consist of an integrated group by the engine for aggregating and the transforming data sets\n",
    "\n",
    "c) Pandas consist of moving window statistics\n",
    "\n",
    "d) All of theabovementioned\n",
    "\n",
    "## Ans: d"
   ]
  },
  {
   "cell_type": "markdown",
   "metadata": {
    "colab_type": "text",
    "id": "Ji7q8nLjLq2k"
   },
   "source": [
    "# Q123. Which of the following statement will import the pandas?\n",
    "\n",
    "a) import pandas as pd\n",
    "\n",
    "b) import panda as py\n",
    "\n",
    "c) import pandaspy as pd\n",
    "\n",
    "d) all of the Mentioned\n",
    "\n",
    "## Ans: a"
   ]
  },
  {
   "cell_type": "markdown",
   "metadata": {
    "colab_type": "text",
    "id": "XwSUmk-rL-my"
   },
   "source": [
    "# Q124. Which of the following object did we get after reading the CSV file?\n",
    "\n",
    "a) DataFrame.\n",
    "\n",
    "b) Character Vector.\n",
    "\n",
    "c) Panel.\n",
    "\n",
    "d) All of the Mentioned\n",
    "\n",
    "## Ans: a"
   ]
  },
  {
   "cell_type": "markdown",
   "metadata": {
    "colab_type": "text",
    "id": "1rKdFbVOMNJ1"
   },
   "source": [
    "# Q125. Point out the wrong statement:\n",
    "\n",
    "a) Series is 1D labelled homogeneously-typed array.\n",
    "\n",
    "b) DataFrame is a general 2D labelled, size-mutable tabular structure with the potentially heterogeneously-typed columns.\n",
    "\n",
    "c) The panel is generally 2D labelled, also a size-mutable array.\n",
    "\n",
    "d) None of the Mentioned.\n",
    "\n",
    "## Ans: c"
   ]
  },
  {
   "cell_type": "markdown",
   "metadata": {
    "colab_type": "text",
    "id": "EAbUHN7QMlUd"
   },
   "source": [
    "# Q126. Which of the following library is similar to the pandas?\n",
    "\n",
    "a) numpy.\n",
    "\n",
    "b) RPy.\n",
    "\n",
    "c) OutPy.\n",
    "\n",
    "d) None of the mentioned.\n",
    "\n",
    "## Ans: a"
   ]
  },
  {
   "cell_type": "markdown",
   "metadata": {
    "colab_type": "text",
    "id": "HbtLG9osMyE6"
   },
   "source": [
    "# Q127. Panel is a container for the Series, and DataFrame is a container for DataFrame objects.\n",
    "\n",
    "a) True\n",
    "\n",
    "b) False\n",
    "\n",
    "## Ans: b"
   ]
  },
  {
   "cell_type": "markdown",
   "metadata": {
    "colab_type": "text",
    "id": "VQT1fOtKNGPh"
   },
   "source": [
    "# Q128. Which of the following is the prominent python “statistics and econometrics library”?\n",
    "\n",
    "a) Bokeh.\n",
    "\n",
    "b) Seaborn.\n",
    "\n",
    "c) Statsmodels.\n",
    "\n",
    "d) None of the mentioned.\n",
    "\n",
    "## Ans: c"
   ]
  },
  {
   "cell_type": "markdown",
   "metadata": {
    "colab_type": "text",
    "id": "w-JIQEs-NVSk"
   },
   "source": [
    "# Q129. Which of the following is the foundational exploratory visualisation package for the R language in the pandas ecosystem?\n",
    "\n",
    "a) yhat.\n",
    "\n",
    "b) Seaborn.\n",
    "\n",
    "c) Vincent.\n",
    "\n",
    "d) None of the mentioned.\n",
    "\n",
    "## Ans: a"
   ]
  },
  {
   "cell_type": "markdown",
   "metadata": {
    "colab_type": "text",
    "id": "Mw8PkljONiok"
   },
   "source": [
    "# Q130. Pandas consist of static and the moving window linear and panel regression.\n",
    "\n",
    "a) True\n",
    "\n",
    "b) False\n",
    "\n",
    "## Ans: a"
   ]
  },
  {
   "cell_type": "markdown",
   "metadata": {
    "colab_type": "text",
    "id": "8XcOI_9iNukl"
   },
   "source": [
    "# Q131. Quandl API for Python wraps the __ REST API to returnsthe pandas DataFrames with time series indexes.\n",
    "\n",
    "a) Quandl.\n",
    "\n",
    "b) PyDatastream.\n",
    "\n",
    "c) PyData.\n",
    "\n",
    "d) None of the Mentioned.\n",
    "\n",
    "## Ans: a"
   ]
  },
  {
   "cell_type": "markdown",
   "metadata": {
    "colab_type": "text",
    "id": "pTsByUqsN_K7"
   },
   "source": [
    "# Q132. Point out the correct statement:\n",
    "\n",
    "a) Statsmodels provides powerful statistics, econometrics, analysisand the modelling functionality whichis out of pandas’ scope\n",
    "\n",
    "b) Vintageleverages pandas objects asan underlying data container for the computation\n",
    "\n",
    "c) Bokeh is a Python interactive visualisation library for the small datasets\n",
    "\n",
    "d) All of the Mentioned\n",
    "\n",
    "## Ans:a"
   ]
  },
  {
   "cell_type": "markdown",
   "metadata": {
    "colab_type": "text",
    "id": "cmqJWXRYOQcV"
   },
   "source": [
    "# Q133.Which of the following library is used to retrieve andtoacquire statistical data and metadata disseminated in SDMX 2.1?\n",
    "\n",
    "a) pandaSDMX\n",
    "\n",
    "b) freedapi\n",
    "\n",
    "c) Geopandas.\n",
    "\n",
    "d) All of the Mentioned.\n",
    "\n",
    "## Ans: a"
   ]
  },
  {
   "cell_type": "markdown",
   "metadata": {
    "colab_type": "text",
    "id": "o0f8dTKZOgQl"
   },
   "source": [
    "# Q134. Which of the following provides the standard API for doing computations with MongoDB?\n",
    "\n",
    "a) Blaze.\n",
    "\n",
    "b) Geopandas.\n",
    "\n",
    "c) FRED.\n",
    "\n",
    "d) All of the Mentioned.\n",
    "\n",
    "## Ans: a"
   ]
  },
  {
   "cell_type": "markdown",
   "metadata": {
    "colab_type": "text",
    "id": "u3hnN7xyOx-y"
   },
   "source": [
    "# Q135. Point out the wrong statement:\n",
    "\n",
    "a) qgrid is an interactive grid for sorting and the filtering DataFrames\n",
    "\n",
    "b) Pandas DataFramesimplement _repr_html_ methods which are utilised by the IPython Notebook\n",
    "\n",
    "c) Spyder is a cross-platform Qt-based open-source R IDE \n",
    "\n",
    "d) None of the Mentioned\n",
    "\n",
    "\n",
    "## Ans: c"
   ]
  },
  {
   "cell_type": "markdown",
   "metadata": {
    "colab_type": "text",
    "id": "4y7bI1a0PLp4"
   },
   "source": [
    "# Q136. Which of the following makes use of the pandas and returns data in a Series or DataFrame?\n",
    "\n",
    "a) pandaSDMX.\n",
    "\n",
    "b) freedapi.\n",
    "\n",
    "c) OutPy.\n",
    "\n",
    "d) none of the mentioned.\n",
    "\n",
    "## Ans: b"
   ]
  },
  {
   "cell_type": "markdown",
   "metadata": {
    "colab_type": "text",
    "id": "i2VbQ7rgPaIa"
   },
   "source": [
    "# Q137. Spyder can introspect and display Pandas DataFrames.\n",
    "\n",
    "a) True\n",
    "\n",
    "b) False\n",
    "\n",
    "## Ans: b"
   ]
  },
  {
   "cell_type": "markdown",
   "metadata": {
    "colab_type": "text",
    "id": "TgmisEM5Pkl4"
   },
   "source": [
    "# Q138. Which of the following is used for machine learning in the python?\n",
    "\n",
    "a) sci-kit-learn.\n",
    "\n",
    "b) seaborn-learn.\n",
    "\n",
    "c) stats-learn.\n",
    "\n",
    "d) none of the mentioned.\n",
    "\n",
    "## Ans: a"
   ]
  },
  {
   "cell_type": "markdown",
   "metadata": {
    "colab_type": "text",
    "id": "RRA-_UQFPwVb"
   },
   "source": [
    "# Q139. The ________ project builds on top of the pandas and matplotlib to provide easy plotting of data.\n",
    "\n",
    "a) yhat.\n",
    "\n",
    "b) Seaborn.\n",
    "\n",
    "c) Vincent.\n",
    "\n",
    "d) None of the mentioned.\n",
    "\n",
    "## Ans: b"
   ]
  },
  {
   "cell_type": "markdown",
   "metadata": {
    "colab_type": "text",
    "id": "uMIoMbZCP68e"
   },
   "source": [
    "# Q140 x-ray brings the labelled data power of pandas to the physical sciences.\n",
    "\n",
    "a) True\n",
    "\n",
    "b) False\n",
    "\n",
    "## Ans: a"
   ]
  },
  {
   "cell_type": "markdown",
   "metadata": {
    "colab_type": "text",
    "id": "dCrD5i_8QFK7"
   },
   "source": [
    "# Q141. Which of the following is the base layer of all of the sparse has it indexed data structures?\n",
    "\n",
    "a) SArray.\n",
    "\n",
    "b) SparseArray.\n",
    "\n",
    "c) PyArray.\n",
    "\n",
    "d) None of the mentioned.\n",
    "\n",
    "## Ans: b"
   ]
  },
  {
   "cell_type": "markdown",
   "metadata": {
    "colab_type": "text",
    "id": "ZWzDjRU1QT0F"
   },
   "source": [
    "# Q142. Point out the correct statement.\n",
    "\n",
    "a) All of the standard pandas data structures have to_sparse method\n",
    "\n",
    "b) Any sparse object can be converted back to the standard dense form by calling the to_dense\n",
    "\n",
    "c) The sparse objects exist for memory efficiency reasons.\n",
    "\n",
    "d) All of the mentioned.\n",
    "\n",
    "## Ans: d"
   ]
  },
  {
   "cell_type": "markdown",
   "metadata": {
    "colab_type": "text",
    "id": "OWqX4zoiQg3s"
   },
   "source": [
    "# Q143. Which of the following is not an indexed object?\n",
    "\n",
    "a) SparseSeries.\n",
    "\n",
    "b) SparseDataFrame.\n",
    "\n",
    "c) SparsePanel.\n",
    "\n",
    "d) None of the mentioned.\n",
    "\n",
    "## Ans: d"
   ]
  },
  {
   "cell_type": "markdown",
   "metadata": {
    "colab_type": "text",
    "id": "LUIU7oPUQqWZ"
   },
   "source": [
    "# Q144. Which of the following list like data structure is used for managing the dynamic collection of SparseArrays?\n",
    "\n",
    "a) SparseList.\n",
    "\n",
    "b) GeoList.\n",
    "\n",
    "c) SparseSeries.\n",
    "\n",
    "d) All of the mentioned\n",
    "\n",
    "## Ans: a"
   ]
  },
  {
   "cell_type": "markdown",
   "metadata": {
    "colab_type": "text",
    "id": "7ORBASKDQzxP"
   },
   "source": [
    "# Q145. Point out the wrong statement.\n",
    "\n",
    "a) to_array. append can accept scalar values or any 2-Dsequence.\n",
    "\n",
    "b) Two kinds of SparseIndex are implemented.\n",
    "\n",
    "c) The integer format keeps an arrays of alllocations, where the data are not equal to the fill value.\n",
    "\n",
    "d) None of the mentioned.\n",
    "\n",
    "## Ans: a"
   ]
  },
  {
   "cell_type": "markdown",
   "metadata": {
    "colab_type": "text",
    "id": "LlUQBxmURCof"
   },
   "source": [
    "# Q146. Which of the following methodused for transforming theSparse-series indexby theMultiIndex to a scipy.sparse.coo_matrix?\n",
    "\n",
    "a) SparseSeries.to_coo().\n",
    "\n",
    "b) Series.to_coo().\n",
    "\n",
    "c) SparseSeries.to_cooser().\n",
    "\n",
    "d) None of the mentioned.\n",
    "\n",
    "## Ans: a"
   ]
  },
  {
   "cell_type": "markdown",
   "metadata": {
    "colab_type": "text",
    "id": "KGt5JOUURMy0"
   },
   "source": [
    "# Q147. The integer format tracks only the locations and the sizes of blocks of data.\n",
    "\n",
    "a) True\n",
    "\n",
    "b) False\n",
    "\n",
    "## Ans: b"
   ]
  },
  {
   "cell_type": "markdown",
   "metadata": {
    "colab_type": "text",
    "id": "iu-cBpivRXDy"
   },
   "source": [
    "# Q148. Which of the following is used for the testing for membership in the list of column names?\n",
    "\n",
    "a) in.\n",
    "\n",
    "b) out.\n",
    "\n",
    "c) elseif.\n",
    "\n",
    "d) none of the mentioned.\n",
    "\n",
    "## Ans: a"
   ]
  },
  {
   "cell_type": "markdown",
   "metadata": {
    "colab_type": "text",
    "id": "9kJ-Wm-2RN__"
   },
   "source": [
    "# Q149. Which of the following indexing capabilities is used as the concise means of selecting data from a pandas object?\n",
    "\n",
    "a) In.\n",
    "\n",
    "b) ix.\n",
    "\n",
    "c) ipy.\n",
    "\n",
    "d) none of the mentioned.\n",
    "\n",
    "## Ans: b"
   ]
  },
  {
   "cell_type": "markdown",
   "metadata": {
    "colab_type": "text",
    "id": "xzOkCwvYR49I"
   },
   "source": [
    "# Q150. Pandas follow the NumPy convention of raising an error when you try to convert something to a bool.\n",
    "\n",
    "a) True\n",
    "\n",
    "b) False\n",
    "\n",
    "## Ans: a"
   ]
  }
 ],
 "metadata": {
  "colab": {
   "collapsed_sections": [],
   "name": "Ineuron-Python Objective Assignemnt.ipynb",
   "provenance": []
  },
  "kernelspec": {
   "display_name": "Python [default]",
   "language": "python",
   "name": "python3"
  },
  "language_info": {
   "codemirror_mode": {
    "name": "ipython",
    "version": 3
   },
   "file_extension": ".py",
   "mimetype": "text/x-python",
   "name": "python",
   "nbconvert_exporter": "python",
   "pygments_lexer": "ipython3",
   "version": "3.5.2"
  }
 },
 "nbformat": 4,
 "nbformat_minor": 0
}
